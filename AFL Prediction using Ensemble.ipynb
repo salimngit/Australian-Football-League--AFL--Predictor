{
 "cells": [
  {
   "cell_type": "markdown",
   "metadata": {},
   "source": [
    "# Predicting Australian Football Games"
   ]
  },
  {
   "cell_type": "markdown",
   "metadata": {},
   "source": [
    "How much of a determining factor does home advantage play in AFL? below is a simple model I used to support a hypothesis/debate i had with a friend."
   ]
  },
  {
   "cell_type": "markdown",
   "metadata": {},
   "source": [
    "** include relevant libraries "
   ]
  },
  {
   "cell_type": "code",
   "execution_count": 3,
   "metadata": {},
   "outputs": [],
   "source": [
    "import urllib3  \n",
    "import pandas as pd\n",
    "import numpy as np\n",
    "import matplotlib.pyplot as plt\n",
    "import seaborn as sns\n",
    "\n",
    "from io import StringIO\n",
    "from datetime import datetime\n",
    "from sklearn.model_selection import train_test_split\n",
    "from sklearn.ensemble import RandomForestClassifier\n",
    "from sklearn.model_selection import cross_val_score, cross_val_predict\n",
    "from sklearn.metrics import accuracy_score, classification_report, confusion_matrix"
   ]
  },
  {
   "cell_type": "code",
   "execution_count": 16,
   "metadata": {},
   "outputs": [],
   "source": [
    "#fetch latest fixture data from fanfooty \n",
    "url = 'http://www.fanfooty.com.au/resource/draw.php'\n",
    "\n",
    "#fetch and close connection \n",
    "connection_pool = urllib3.PoolManager()\n",
    "resp = connection_pool.request('GET',url )\n",
    "f = open('draw.php', 'wb')\n",
    "f.write(resp.data)\n",
    "f.close()\n",
    "resp.release_conn()\n",
    "\n",
    "#headers\n",
    "columnames = ['draw ID', 'year', 'competition', 'round', 'gametime', 'day', 'home team', 'away team', 'ground', 'timeslot', 'TV coverage', 'home supergoals', 'home goals', 'home behinds', 'home points', 'away supergoals', 'away goals', 'away behinds', 'away points', 'match status'] \n",
    "\n",
    "#convert into pandas dataframe\n",
    "games_df = pd.read_csv(StringIO(resp.data.decode(\"utf-8\")), sep=\",\", names=columnames)\n"
   ]
  },
  {
   "cell_type": "code",
   "execution_count": 17,
   "metadata": {},
   "outputs": [
    {
     "data": {
      "text/html": [
       "<div>\n",
       "<style scoped>\n",
       "    .dataframe tbody tr th:only-of-type {\n",
       "        vertical-align: middle;\n",
       "    }\n",
       "\n",
       "    .dataframe tbody tr th {\n",
       "        vertical-align: top;\n",
       "    }\n",
       "\n",
       "    .dataframe thead th {\n",
       "        text-align: right;\n",
       "    }\n",
       "</style>\n",
       "<table border=\"1\" class=\"dataframe\">\n",
       "  <thead>\n",
       "    <tr style=\"text-align: right;\">\n",
       "      <th></th>\n",
       "      <th>draw ID</th>\n",
       "      <th>year</th>\n",
       "      <th>competition</th>\n",
       "      <th>round</th>\n",
       "      <th>gametime</th>\n",
       "      <th>day</th>\n",
       "      <th>home team</th>\n",
       "      <th>away team</th>\n",
       "      <th>ground</th>\n",
       "      <th>timeslot</th>\n",
       "      <th>...</th>\n",
       "      <th>home supergoals</th>\n",
       "      <th>home goals</th>\n",
       "      <th>home behinds</th>\n",
       "      <th>home points</th>\n",
       "      <th>away supergoals</th>\n",
       "      <th>away goals</th>\n",
       "      <th>away behinds</th>\n",
       "      <th>away points</th>\n",
       "      <th>match status</th>\n",
       "      <th>Winner</th>\n",
       "    </tr>\n",
       "  </thead>\n",
       "  <tbody>\n",
       "    <tr>\n",
       "      <th>0</th>\n",
       "      <td>1006</td>\n",
       "      <td>1993</td>\n",
       "      <td>HA</td>\n",
       "      <td>1</td>\n",
       "      <td>1993-03-26 20:08:00</td>\n",
       "      <td>Friday</td>\n",
       "      <td>Western Bulldogs</td>\n",
       "      <td>Collingwood</td>\n",
       "      <td>MCG</td>\n",
       "      <td>N</td>\n",
       "      <td>...</td>\n",
       "      <td>NaN</td>\n",
       "      <td>13.0</td>\n",
       "      <td>17.0</td>\n",
       "      <td>95.0</td>\n",
       "      <td>NaN</td>\n",
       "      <td>17.0</td>\n",
       "      <td>13.0</td>\n",
       "      <td>115.0</td>\n",
       "      <td>Full Time</td>\n",
       "      <td>0</td>\n",
       "    </tr>\n",
       "    <tr>\n",
       "      <th>1</th>\n",
       "      <td>1000</td>\n",
       "      <td>1993</td>\n",
       "      <td>HA</td>\n",
       "      <td>1</td>\n",
       "      <td>1993-03-27 14:00:00</td>\n",
       "      <td>Saturday</td>\n",
       "      <td>North Melbourne</td>\n",
       "      <td>Brisbane Bears</td>\n",
       "      <td>MCG</td>\n",
       "      <td>D</td>\n",
       "      <td>...</td>\n",
       "      <td>NaN</td>\n",
       "      <td>24.0</td>\n",
       "      <td>22.0</td>\n",
       "      <td>166.0</td>\n",
       "      <td>NaN</td>\n",
       "      <td>22.0</td>\n",
       "      <td>11.0</td>\n",
       "      <td>143.0</td>\n",
       "      <td>Full Time</td>\n",
       "      <td>1</td>\n",
       "    </tr>\n",
       "    <tr>\n",
       "      <th>2</th>\n",
       "      <td>1001</td>\n",
       "      <td>1993</td>\n",
       "      <td>HA</td>\n",
       "      <td>1</td>\n",
       "      <td>1993-03-27 14:00:00</td>\n",
       "      <td>Saturday</td>\n",
       "      <td>Carlton</td>\n",
       "      <td>Fitzroy</td>\n",
       "      <td>Princes Park</td>\n",
       "      <td>D</td>\n",
       "      <td>...</td>\n",
       "      <td>NaN</td>\n",
       "      <td>17.0</td>\n",
       "      <td>10.0</td>\n",
       "      <td>112.0</td>\n",
       "      <td>NaN</td>\n",
       "      <td>17.0</td>\n",
       "      <td>16.0</td>\n",
       "      <td>118.0</td>\n",
       "      <td>Full Time</td>\n",
       "      <td>0</td>\n",
       "    </tr>\n",
       "    <tr>\n",
       "      <th>3</th>\n",
       "      <td>1002</td>\n",
       "      <td>1993</td>\n",
       "      <td>HA</td>\n",
       "      <td>1</td>\n",
       "      <td>1993-03-27 14:00:00</td>\n",
       "      <td>Saturday</td>\n",
       "      <td>Hawthorn</td>\n",
       "      <td>Melbourne</td>\n",
       "      <td>Waverley</td>\n",
       "      <td>D</td>\n",
       "      <td>...</td>\n",
       "      <td>NaN</td>\n",
       "      <td>13.0</td>\n",
       "      <td>15.0</td>\n",
       "      <td>93.0</td>\n",
       "      <td>NaN</td>\n",
       "      <td>11.0</td>\n",
       "      <td>4.0</td>\n",
       "      <td>70.0</td>\n",
       "      <td>Full Time</td>\n",
       "      <td>1</td>\n",
       "    </tr>\n",
       "    <tr>\n",
       "      <th>4</th>\n",
       "      <td>1005</td>\n",
       "      <td>1993</td>\n",
       "      <td>HA</td>\n",
       "      <td>1</td>\n",
       "      <td>1993-03-27 14:08:00</td>\n",
       "      <td>Saturday</td>\n",
       "      <td>Geelong</td>\n",
       "      <td>St Kilda</td>\n",
       "      <td>Kardinia</td>\n",
       "      <td>D</td>\n",
       "      <td>...</td>\n",
       "      <td>NaN</td>\n",
       "      <td>20.0</td>\n",
       "      <td>16.0</td>\n",
       "      <td>136.0</td>\n",
       "      <td>NaN</td>\n",
       "      <td>16.0</td>\n",
       "      <td>16.0</td>\n",
       "      <td>112.0</td>\n",
       "      <td>Full Time</td>\n",
       "      <td>1</td>\n",
       "    </tr>\n",
       "  </tbody>\n",
       "</table>\n",
       "<p>5 rows × 21 columns</p>\n",
       "</div>"
      ],
      "text/plain": [
       "   draw ID  year competition  round             gametime       day  \\\n",
       "0     1006  1993          HA      1  1993-03-26 20:08:00    Friday   \n",
       "1     1000  1993          HA      1  1993-03-27 14:00:00  Saturday   \n",
       "2     1001  1993          HA      1  1993-03-27 14:00:00  Saturday   \n",
       "3     1002  1993          HA      1  1993-03-27 14:00:00  Saturday   \n",
       "4     1005  1993          HA      1  1993-03-27 14:08:00  Saturday   \n",
       "\n",
       "          home team       away team        ground timeslot  ...    \\\n",
       "0  Western Bulldogs     Collingwood           MCG        N  ...     \n",
       "1   North Melbourne  Brisbane Bears           MCG        D  ...     \n",
       "2           Carlton         Fitzroy  Princes Park        D  ...     \n",
       "3          Hawthorn       Melbourne      Waverley        D  ...     \n",
       "4           Geelong        St Kilda      Kardinia        D  ...     \n",
       "\n",
       "  home supergoals  home goals  home behinds  home points  away supergoals  \\\n",
       "0             NaN        13.0          17.0         95.0              NaN   \n",
       "1             NaN        24.0          22.0        166.0              NaN   \n",
       "2             NaN        17.0          10.0        112.0              NaN   \n",
       "3             NaN        13.0          15.0         93.0              NaN   \n",
       "4             NaN        20.0          16.0        136.0              NaN   \n",
       "\n",
       "   away goals  away behinds  away points  match status Winner  \n",
       "0        17.0          13.0        115.0     Full Time      0  \n",
       "1        22.0          11.0        143.0     Full Time      1  \n",
       "2        17.0          16.0        118.0     Full Time      0  \n",
       "3        11.0           4.0         70.0     Full Time      1  \n",
       "4        16.0          16.0        112.0     Full Time      1  \n",
       "\n",
       "[5 rows x 21 columns]"
      ]
     },
     "execution_count": 17,
     "metadata": {},
     "output_type": "execute_result"
    }
   ],
   "source": [
    "#define winner criteria 1 (home team), 0 (away team),2 (draw)\n",
    "def determine_winner(row):\n",
    "    if row['home points'] > row['away points']:\n",
    "        winner = 1\n",
    "    else:\n",
    "        if row['home points'] == row['away points']:\n",
    "            winner = 2\n",
    "        else: \n",
    "            winner = 0\n",
    "    return winner \n",
    "\n",
    "#filter data\n",
    "games_df[\"Winner\"] = games_df.apply(determine_winner,axis=1)\n",
    "games_df = games_df[(games_df['match status'] != np.nan) & (games_df['match status'].str.contains('Full Time'))]\n",
    "ames_df.head()"
   ]
  },
  {
   "cell_type": "code",
   "execution_count": 18,
   "metadata": {},
   "outputs": [],
   "source": [
    "#feature select \n",
    "games_df = games_df[['home team', 'away team','ground', 'day', 'Winner']]"
   ]
  },
  {
   "cell_type": "code",
   "execution_count": 19,
   "metadata": {},
   "outputs": [
    {
     "data": {
      "text/plain": [
       "(array([], dtype=int64), array([], dtype=int64))"
      ]
     },
     "execution_count": 19,
     "metadata": {},
     "output_type": "execute_result"
    }
   ],
   "source": [
    "# check if there are  null fields\n",
    "np.where(games_df.isnull())"
   ]
  },
  {
   "cell_type": "code",
   "execution_count": 21,
   "metadata": {},
   "outputs": [
    {
     "name": "stdout",
     "output_type": "stream",
     "text": [
      "<class 'pandas.core.frame.DataFrame'>\n",
      "Int64Index: 5093 entries, 0 to 5102\n",
      "Data columns (total 5 columns):\n",
      "home team    5093 non-null object\n",
      "away team    5093 non-null object\n",
      "ground       5093 non-null object\n",
      "day          5093 non-null object\n",
      "Winner       5093 non-null int64\n",
      "dtypes: int64(1), object(4)\n",
      "memory usage: 238.7+ KB\n"
     ]
    },
    {
     "data": {
      "text/plain": [
       "Index(['home team', 'away team', 'ground', 'day', 'Winner'], dtype='object')"
      ]
     },
     "execution_count": 21,
     "metadata": {},
     "output_type": "execute_result"
    }
   ],
   "source": [
    "games_df.info()\n",
    "games_df.columns"
   ]
  },
  {
   "cell_type": "code",
   "execution_count": 22,
   "metadata": {},
   "outputs": [
    {
     "name": "stdout",
     "output_type": "stream",
     "text": [
      "Set target variable\n"
     ]
    }
   ],
   "source": [
    "y = games_df['Winner']\n",
    "\n",
    "#remove target and set all remaining fields as features\n",
    "games_df.pop('Winner')\n",
    "print('Set target variable')"
   ]
  },
  {
   "cell_type": "code",
   "execution_count": 23,
   "metadata": {},
   "outputs": [],
   "source": [
    "# one hot encode categortical data using pandas built-in dummies method\n",
    "all_categorical_fields = games_df.select_dtypes('object').columns\n",
    "all_categorical_fields_indicator = []\n",
    "\n",
    "for categorical_field in all_categorical_fields:\n",
    "        all_categorical_fields_indicator.append(pd.get_dummies(games_df[categorical_field], prefix=categorical_field))\n",
    "        \n",
    "# create a new dataframe with one hot encoded features and continous variables\n",
    "# now add remaining continous variables\n",
    "all_categorical_fields_indicator.append(games_df.select_dtypes(['int64']))\n",
    "X = pd.concat([categorical_field for categorical_field in all_categorical_fields_indicator], axis=1)"
   ]
  },
  {
   "cell_type": "code",
   "execution_count": 24,
   "metadata": {},
   "outputs": [],
   "source": [
    "X_train, X_test, y_train, y_test = train_test_split(X, y, test_size=.7,\n",
    "                                                    random_state=42)"
   ]
  },
  {
   "cell_type": "code",
   "execution_count": 28,
   "metadata": {},
   "outputs": [],
   "source": [
    "def print_score(clf, X_train, y_train, X_test, y_test, train=True):\n",
    "    '''\n",
    "    print the accuracy score, classification report and confusion matrix of classifier\n",
    "    '''\n",
    "    if train:\n",
    "        '''\n",
    "        training performance\n",
    "        '''\n",
    "        print(\"Train Result:\\n\")\n",
    "        print(\"accuracy score: {0:.4f}\\n\".format(accuracy_score(y_train, clf.predict(X_train))))\n",
    "        print(\"Classification Report: \\n {}\\n\".format(classification_report(y_train, clf.predict(X_train))))\n",
    "        print(\"Confusion Matrix: \\n {}\\n\".format(confusion_matrix(y_train, clf.predict(X_train))))\n",
    "\n",
    "        res = cross_val_score(clf, X_train, y_train, cv=10, scoring='accuracy')\n",
    "        print(\"Average Accuracy: \\t {0:.4f}\".format(np.mean(res)))\n",
    "        print(\"Accuracy SD: \\t\\t {0:.4f}\".format(np.std(res)))\n",
    "        \n",
    "    elif train==False:\n",
    "        '''\n",
    "        test performance\n",
    "        '''\n",
    "        print(\"Test Result:\\n\")        \n",
    "        print(\"accuracy score: {0:.4f}\\n\".format(accuracy_score(y_test, clf.predict(X_test))))\n",
    "        print(\"Classification Report: \\n {}\\n\".format(classification_report(y_test, clf.predict(X_test))))\n",
    "        print(\"Confusion Matrix: \\n {}\\n\".format(confusion_matrix(y_test, clf.predict(X_test))))    "
   ]
  },
  {
   "cell_type": "markdown",
   "metadata": {},
   "source": [
    "# GBM + Grid search to optimise hyperparameters"
   ]
  },
  {
   "cell_type": "code",
   "execution_count": 29,
   "metadata": {},
   "outputs": [],
   "source": [
    "from sklearn.pipeline import Pipeline\n",
    "from sklearn.model_selection import GridSearchCV\n",
    "from sklearn.ensemble import GradientBoostingClassifier"
   ]
  },
  {
   "cell_type": "code",
   "execution_count": 30,
   "metadata": {},
   "outputs": [],
   "source": [
    "gbc_clf = GradientBoostingClassifier(random_state=42)"
   ]
  },
  {
   "cell_type": "code",
   "execution_count": 31,
   "metadata": {},
   "outputs": [],
   "source": [
    "params_grid = {\"max_depth\": [3, 5, None],\n",
    "               \"min_samples_split\": [2, 3, 10],\n",
    "               \"min_samples_leaf\": [1, 3, 10],\n",
    "               \"learning_rate\": [0.1, 0.2, 0.3, 0.4, 0.5],\n",
    "               \"n_estimators\": [100, 200, 300]}"
   ]
  },
  {
   "cell_type": "code",
   "execution_count": 32,
   "metadata": {},
   "outputs": [],
   "source": [
    "grid_search = GridSearchCV(gbc_clf, params_grid,\n",
    "                           n_jobs=-1, cv=5,\n",
    "                           verbose=1, scoring='accuracy')"
   ]
  },
  {
   "cell_type": "code",
   "execution_count": 33,
   "metadata": {},
   "outputs": [
    {
     "name": "stdout",
     "output_type": "stream",
     "text": [
      "Fitting 5 folds for each of 405 candidates, totalling 2025 fits\n"
     ]
    },
    {
     "name": "stderr",
     "output_type": "stream",
     "text": [
      "[Parallel(n_jobs=-1)]: Done  42 tasks      | elapsed:   27.4s\n",
      "[Parallel(n_jobs=-1)]: Done 192 tasks      | elapsed:  2.3min\n",
      "[Parallel(n_jobs=-1)]: Done 442 tasks      | elapsed: 18.1min\n",
      "[Parallel(n_jobs=-1)]: Done 792 tasks      | elapsed: 32.2min\n",
      "[Parallel(n_jobs=-1)]: Done 1242 tasks      | elapsed: 48.5min\n",
      "[Parallel(n_jobs=-1)]: Done 1792 tasks      | elapsed: 65.8min\n",
      "[Parallel(n_jobs=-1)]: Done 2025 out of 2025 | elapsed: 78.7min finished\n"
     ]
    },
    {
     "data": {
      "text/plain": [
       "GridSearchCV(cv=5, error_score='raise',\n",
       "       estimator=GradientBoostingClassifier(criterion='friedman_mse', init=None,\n",
       "              learning_rate=0.1, loss='deviance', max_depth=3,\n",
       "              max_features=None, max_leaf_nodes=None,\n",
       "              min_impurity_decrease=0.0, min_impurity_split=None,\n",
       "              min_samples_leaf=1, min_samples_split=2,\n",
       "              min_weight_fraction_leaf=0.0, n_estimators=100,\n",
       "              presort='auto', random_state=42, subsample=1.0, verbose=0,\n",
       "              warm_start=False),\n",
       "       fit_params=None, iid=True, n_jobs=-1,\n",
       "       param_grid={'max_depth': [3, 5, None], 'min_samples_split': [2, 3, 10], 'min_samples_leaf': [1, 3, 10], 'learning_rate': [0.1, 0.2, 0.3, 0.4, 0.5], 'n_estimators': [100, 200, 300]},\n",
       "       pre_dispatch='2*n_jobs', refit=True, return_train_score='warn',\n",
       "       scoring='accuracy', verbose=1)"
      ]
     },
     "execution_count": 33,
     "metadata": {},
     "output_type": "execute_result"
    }
   ],
   "source": [
    "grid_search.fit(X_train, y_train)"
   ]
  },
  {
   "cell_type": "code",
   "execution_count": 34,
   "metadata": {},
   "outputs": [
    {
     "data": {
      "text/plain": [
       "'\\n0.6042884990253411\\n'"
      ]
     },
     "execution_count": 34,
     "metadata": {},
     "output_type": "execute_result"
    }
   ],
   "source": [
    "grid_search.best_score_\n",
    "'''\n",
    "0.6042884990253411\n",
    "'''"
   ]
  },
  {
   "cell_type": "code",
   "execution_count": 35,
   "metadata": {},
   "outputs": [
    {
     "data": {
      "text/plain": [
       "\"\\n{'criterion': 'friedman_mse',\\n 'init': None,\\n 'learning_rate': 0.2,\\n 'loss': 'deviance',\\n 'max_depth': 3,\\n 'max_features': None,\\n 'max_leaf_nodes': None,\\n 'min_impurity_decrease': 0.0,\\n 'min_impurity_split': None,\\n 'min_samples_leaf': 10,\\n 'min_samples_split': 2,\\n 'min_weight_fraction_leaf': 0.0,\\n 'n_estimators': 100,\\n 'presort': 'auto',\\n 'random_state': 42,\\n 'subsample': 1.0,\\n 'verbose': 0,\\n 'warm_start': False}\\n\""
      ]
     },
     "execution_count": 35,
     "metadata": {},
     "output_type": "execute_result"
    }
   ],
   "source": [
    "grid_search.best_estimator_.get_params()\n",
    "'''\n",
    "{'criterion': 'friedman_mse',\n",
    " 'init': None,\n",
    " 'learning_rate': 0.2,\n",
    " 'loss': 'deviance',\n",
    " 'max_depth': 3,\n",
    " 'max_features': None,\n",
    " 'max_leaf_nodes': None,\n",
    " 'min_impurity_decrease': 0.0,\n",
    " 'min_impurity_split': None,\n",
    " 'min_samples_leaf': 10,\n",
    " 'min_samples_split': 2,\n",
    " 'min_weight_fraction_leaf': 0.0,\n",
    " 'n_estimators': 100,\n",
    " 'presort': 'auto',\n",
    " 'random_state': 42,\n",
    " 'subsample': 1.0,\n",
    " 'verbose': 0,\n",
    " 'warm_start': False}\n",
    "'''"
   ]
  },
  {
   "cell_type": "code",
   "execution_count": 36,
   "metadata": {},
   "outputs": [],
   "source": [
    "gbc_clf = GradientBoostingClassifier(\n",
    "        criterion = 'friedman_mse',\n",
    "        init = None,\n",
    "        learning_rate = 0.2,\n",
    "        loss = 'deviance',\n",
    "        max_depth = 3,\n",
    "        max_features = None,\n",
    "        max_leaf_nodes = None,\n",
    "        min_impurity_decrease = 0.0,\n",
    "        min_impurity_split = None,\n",
    "        min_samples_leaf = 10,\n",
    "        min_samples_split = 2,\n",
    "        min_weight_fraction_leaf = 0.0,\n",
    "        n_estimators = 100,\n",
    "        presort = 'auto',\n",
    "        random_state = 42,\n",
    "        subsample =  1.0,\n",
    "        verbose =  0,\n",
    "        warm_start = False)"
   ]
  },
  {
   "cell_type": "code",
   "execution_count": 37,
   "metadata": {},
   "outputs": [
    {
     "data": {
      "text/plain": [
       "GradientBoostingClassifier(criterion='friedman_mse', init=None,\n",
       "              learning_rate=0.2, loss='deviance', max_depth=3,\n",
       "              max_features=None, max_leaf_nodes=None,\n",
       "              min_impurity_decrease=0.0, min_impurity_split=None,\n",
       "              min_samples_leaf=10, min_samples_split=2,\n",
       "              min_weight_fraction_leaf=0.0, n_estimators=100,\n",
       "              presort='auto', random_state=42, subsample=1.0, verbose=0,\n",
       "              warm_start=False)"
      ]
     },
     "execution_count": 37,
     "metadata": {},
     "output_type": "execute_result"
    }
   ],
   "source": [
    "gbc_clf.fit(X_train, y_train)"
   ]
  },
  {
   "cell_type": "code",
   "execution_count": 38,
   "metadata": {},
   "outputs": [
    {
     "name": "stdout",
     "output_type": "stream",
     "text": [
      "Train Result:\n",
      "\n",
      "accuracy score: 0.6660\n",
      "\n",
      "Classification Report: \n",
      "              precision    recall  f1-score   support\n",
      "\n",
      "          0       0.66      0.48      0.56       659\n",
      "          1       0.67      0.81      0.73       856\n",
      "          2       1.00      0.17      0.29        12\n",
      "\n",
      "avg / total       0.67      0.67      0.65      1527\n",
      "\n",
      "\n",
      "Confusion Matrix: \n",
      " [[318 341   0]\n",
      " [159 697   0]\n",
      " [  5   5   2]]\n",
      "\n",
      "Average Accuracy: \t 0.5665\n",
      "Accuracy SD: \t\t 0.0345\n"
     ]
    }
   ],
   "source": [
    "print_score(gbc_clf, X_train, y_train, X_test, y_test, train=True)"
   ]
  },
  {
   "cell_type": "code",
   "execution_count": 39,
   "metadata": {},
   "outputs": [
    {
     "name": "stdout",
     "output_type": "stream",
     "text": [
      "Test Result:\n",
      "\n",
      "accuracy score: 0.5774\n",
      "\n",
      "Classification Report: \n",
      "              precision    recall  f1-score   support\n",
      "\n",
      "          0       0.47      0.39      0.43      1413\n",
      "          1       0.63      0.71      0.67      2115\n",
      "          2       0.00      0.00      0.00        38\n",
      "\n",
      "avg / total       0.56      0.58      0.57      3566\n",
      "\n",
      "\n",
      "Confusion Matrix: \n",
      " [[ 556  856    1]\n",
      " [ 608 1503    4]\n",
      " [  15   23    0]]\n",
      "\n"
     ]
    }
   ],
   "source": [
    "print_score(gbc_clf, X_train, y_train, X_test, y_test, train=False)"
   ]
  },
  {
   "cell_type": "code",
   "execution_count": null,
   "metadata": {},
   "outputs": [],
   "source": []
  }
 ],
 "metadata": {
  "kernelspec": {
   "display_name": "Python 3",
   "language": "python",
   "name": "python3"
  },
  "language_info": {
   "codemirror_mode": {
    "name": "ipython",
    "version": 3
   },
   "file_extension": ".py",
   "mimetype": "text/x-python",
   "name": "python",
   "nbconvert_exporter": "python",
   "pygments_lexer": "ipython3",
   "version": "3.6.2"
  }
 },
 "nbformat": 4,
 "nbformat_minor": 2
}
